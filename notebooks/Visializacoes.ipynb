{
 "cells": [
  {
   "cell_type": "code",
   "execution_count": 6,
   "metadata": {},
   "outputs": [],
   "source": [
    "import pandas as pd\n",
    "import numpy as np\n",
    "import matplotlib.pyplot as plt"
   ]
  },
  {
   "cell_type": "code",
   "execution_count": 4,
   "metadata": {},
   "outputs": [
    {
     "data": {
      "text/html": [
       "<div>\n",
       "<style scoped>\n",
       "    .dataframe tbody tr th:only-of-type {\n",
       "        vertical-align: middle;\n",
       "    }\n",
       "\n",
       "    .dataframe tbody tr th {\n",
       "        vertical-align: top;\n",
       "    }\n",
       "\n",
       "    .dataframe thead th {\n",
       "        text-align: right;\n",
       "    }\n",
       "</style>\n",
       "<table border=\"1\" class=\"dataframe\">\n",
       "  <thead>\n",
       "    <tr style=\"text-align: right;\">\n",
       "      <th></th>\n",
       "      <th>Cargo</th>\n",
       "      <th>Setor</th>\n",
       "      <th>Salário Bruto</th>\n",
       "      <th>Tipo de Contratação</th>\n",
       "      <th>Carga Horária por dia</th>\n",
       "      <th>Formação</th>\n",
       "      <th>Idade</th>\n",
       "      <th>NPS interno</th>\n",
       "    </tr>\n",
       "  </thead>\n",
       "  <tbody>\n",
       "    <tr>\n",
       "      <th>0</th>\n",
       "      <td>Cientista de Dados</td>\n",
       "      <td>Dados</td>\n",
       "      <td>6000</td>\n",
       "      <td>CLT</td>\n",
       "      <td>8</td>\n",
       "      <td>Bacharel</td>\n",
       "      <td>24</td>\n",
       "      <td>9.0</td>\n",
       "    </tr>\n",
       "    <tr>\n",
       "      <th>1</th>\n",
       "      <td>Cientista de Dados</td>\n",
       "      <td>Dados</td>\n",
       "      <td>6500</td>\n",
       "      <td>CLT</td>\n",
       "      <td>8</td>\n",
       "      <td>Bacharel</td>\n",
       "      <td>26</td>\n",
       "      <td>9.6</td>\n",
       "    </tr>\n",
       "    <tr>\n",
       "      <th>2</th>\n",
       "      <td>Analista de Dados</td>\n",
       "      <td>Dados</td>\n",
       "      <td>5000</td>\n",
       "      <td>CLT</td>\n",
       "      <td>8</td>\n",
       "      <td>Bacharel</td>\n",
       "      <td>29</td>\n",
       "      <td>8.0</td>\n",
       "    </tr>\n",
       "    <tr>\n",
       "      <th>3</th>\n",
       "      <td>Analista de Dados</td>\n",
       "      <td>Dados</td>\n",
       "      <td>5800</td>\n",
       "      <td>CLT</td>\n",
       "      <td>8</td>\n",
       "      <td>Bacharel</td>\n",
       "      <td>36</td>\n",
       "      <td>9.0</td>\n",
       "    </tr>\n",
       "    <tr>\n",
       "      <th>4</th>\n",
       "      <td>Analista de Dados</td>\n",
       "      <td>Dados</td>\n",
       "      <td>7000</td>\n",
       "      <td>CLT</td>\n",
       "      <td>8</td>\n",
       "      <td>Bacharel</td>\n",
       "      <td>32</td>\n",
       "      <td>9.4</td>\n",
       "    </tr>\n",
       "  </tbody>\n",
       "</table>\n",
       "</div>"
      ],
      "text/plain": [
       "                Cargo  Setor  Salário Bruto Tipo de Contratação  \\\n",
       "0  Cientista de Dados  Dados           6000                 CLT   \n",
       "1  Cientista de Dados  Dados           6500                 CLT   \n",
       "2   Analista de Dados  Dados           5000                 CLT   \n",
       "3   Analista de Dados  Dados           5800                 CLT   \n",
       "4   Analista de Dados  Dados           7000                 CLT   \n",
       "\n",
       "   Carga Horária por dia  Formação  Idade  NPS interno  \n",
       "0                      8  Bacharel     24          9.0  \n",
       "1                      8  Bacharel     26          9.6  \n",
       "2                      8  Bacharel     29          8.0  \n",
       "3                      8  Bacharel     36          9.0  \n",
       "4                      8  Bacharel     32          9.4  "
      ]
     },
     "execution_count": 4,
     "metadata": {},
     "output_type": "execute_result"
    }
   ],
   "source": [
    "file = pd.read_csv(\"../data/raw/Avaliação_Mensal_Funcionários.csv\", decimal = \",\")\n",
    "file.head()"
   ]
  },
  {
   "cell_type": "code",
   "execution_count": 5,
   "metadata": {},
   "outputs": [
    {
     "name": "stdout",
     "output_type": "stream",
     "text": [
      "<class 'pandas.core.frame.DataFrame'>\n",
      "RangeIndex: 72 entries, 0 to 71\n",
      "Data columns (total 8 columns):\n",
      " #   Column                 Non-Null Count  Dtype  \n",
      "---  ------                 --------------  -----  \n",
      " 0   Cargo                  72 non-null     object \n",
      " 1   Setor                  72 non-null     object \n",
      " 2   Salário Bruto          72 non-null     int64  \n",
      " 3   Tipo de Contratação    72 non-null     object \n",
      " 4   Carga Horária por dia  72 non-null     int64  \n",
      " 5   Formação               72 non-null     object \n",
      " 6   Idade                  72 non-null     int64  \n",
      " 7   NPS interno            72 non-null     float64\n",
      "dtypes: float64(1), int64(3), object(4)\n",
      "memory usage: 4.6+ KB\n"
     ]
    }
   ],
   "source": [
    "file.info()"
   ]
  },
  {
   "cell_type": "code",
   "execution_count": 8,
   "metadata": {},
   "outputs": [],
   "source": [
    "file.Setor = file.Setor.replace({\"Engenheiro de Software\": \"Engenharia de Software\"})"
   ]
  },
  {
   "cell_type": "code",
   "execution_count": 20,
   "metadata": {},
   "outputs": [
    {
     "data": {
      "image/png": "[encoded data removed]",
      "text/plain": [
       "<Figure size 432x288 with 1 Axes>"
      ]
     },
     "metadata": {
      "needs_background": "light"
     },
     "output_type": "display_data"
    }
   ],
   "source": [
    "setores = file.groupby([\"Setor\"]).mean()[\"NPS interno\"].index\n",
    "nps_medio_por_setor = file.groupby([\"Setor\"]).mean()[\"NPS interno\"].values\n",
    "\n",
    "plt.bar(setores, nps_medio_por_setor)\n",
    "plt.ylabel(\"NPS interno mensal médio\")\n",
    "plt.xticks(rotation=30)\n",
    "plt.yticks(np.array(range(0, 11, 1)))\n",
    "plt.title(\"Média de NPS interno mensal médio por setor\");"
   ]
  },
  {
   "cell_type": "code",
   "execution_count": 22,
   "metadata": {},
   "outputs": [
    {
     "data": {
      "image/png": "[encoded data removed]",
      "text/plain": [
       "<Figure size 432x288 with 1 Axes>"
      ]
     },
     "metadata": {
      "needs_background": "light"
     },
     "output_type": "display_data"
    }
   ],
   "source": [
    "tipo_contratacao = file.groupby([\"Tipo de Contratação\"]).mean()[\"NPS interno\"].index\n",
    "nps_medio_por_tipo_contratacao = file.groupby([\"Tipo de Contratação\"]).mean()[\"NPS interno\"].values\n",
    "\n",
    "plt.bar(tipo_contratacao, nps_medio_por_tipo_contratacao)\n",
    "plt.ylabel(\"NPS interno mensal médio\")\n",
    "plt.xticks(rotation=30)\n",
    "plt.yticks(np.array(range(0, 11, 1)))\n",
    "plt.title(\"Média de NPS interno mensal médio por Tipo de Contratação\");"
   ]
  },
  {
   "cell_type": "code",
   "execution_count": 29,
   "metadata": {},
   "outputs": [
    {
     "data": {
      "image/png": "[encoded data removed]",
      "text/plain": [
       "<Figure size 432x288 with 1 Axes>"
      ]
     },
     "metadata": {
      "needs_background": "light"
     },
     "output_type": "display_data"
    }
   ],
   "source": [
    "plt.hist(file[\"NPS interno\"])\n",
    "plt.title(\"Distrubuição do NPS interno mensal\")\n",
    "plt.xlabel(\"Nps Interno\");"
   ]
  }
 ],
 "metadata": {
  "kernelspec": {
   "display_name": "Python 3.10.5 ('bot')",
   "language": "python",
   "name": "python3"
  },
  "language_info": {
   "codemirror_mode": {
    "name": "ipython",
    "version": 3
   },
   "file_extension": ".py",
   "mimetype": "text/x-python",
   "name": "python",
   "nbconvert_exporter": "python",
   "pygments_lexer": "ipython3",
   "version": "3.10.5"
  },
  "orig_nbformat": 4,
  "vscode": {
   "interpreter": {
    "hash": "8e6b6a5b9c54f1c774f3245d66bfc9996baede2a39bd1fdff0d0bcdb05c1eca3"
   }
  }
 },
 "nbformat": 4,
 "nbformat_minor": 2
}
